{
 "cells": [
  {
   "cell_type": "code",
   "execution_count": 1,
   "metadata": {},
   "outputs": [],
   "source": [
    "import matplotlib.pyplot as plt\n",
    "import pandas as pd\n",
    "import seaborn as sns\n"
   ]
  },
  {
   "cell_type": "code",
   "execution_count": 2,
   "metadata": {},
   "outputs": [],
   "source": [
    "from level import LevelMap\n"
   ]
  },
  {
   "cell_type": "code",
   "execution_count": 3,
   "metadata": {},
   "outputs": [
    {
     "data": {
      "text/plain": [
       "[[Tile(x=0, y=0, is_visited=0, visiting_agent=[], code_block=<CodeBlock.EMPTY: 'empty'>),\n",
       "  Tile(x=1, y=0, is_visited=0, visiting_agent=[], code_block=<CodeBlock.EMPTY: 'empty'>),\n",
       "  Tile(x=2, y=0, is_visited=0, visiting_agent=[], code_block=<CodeBlock.EMPTY: 'empty'>),\n",
       "  Tile(x=3, y=0, is_visited=0, visiting_agent=[], code_block=<CodeBlock.EMPTY: 'empty'>),\n",
       "  Tile(x=4, y=0, is_visited=0, visiting_agent=[], code_block=<CodeBlock.EMPTY: 'empty'>),\n",
       "  Tile(x=5, y=0, is_visited=0, visiting_agent=[], code_block=<CodeBlock.EMPTY: 'empty'>),\n",
       "  Tile(x=6, y=0, is_visited=0, visiting_agent=[], code_block=<CodeBlock.EMPTY: 'empty'>),\n",
       "  Tile(x=7, y=0, is_visited=0, visiting_agent=[], code_block=<CodeBlock.EMPTY: 'empty'>),\n",
       "  Tile(x=8, y=0, is_visited=0, visiting_agent=[], code_block=<CodeBlock.EMPTY: 'empty'>),\n",
       "  Tile(x=9, y=0, is_visited=0, visiting_agent=[], code_block=<CodeBlock.EMPTY: 'empty'>),\n",
       "  Tile(x=10, y=0, is_visited=0, visiting_agent=[], code_block=<CodeBlock.EMPTY: 'empty'>),\n",
       "  Tile(x=11, y=0, is_visited=0, visiting_agent=[], code_block=<CodeBlock.EMPTY: 'empty'>),\n",
       "  Tile(x=12, y=0, is_visited=0, visiting_agent=[], code_block=<CodeBlock.EMPTY: 'empty'>),\n",
       "  Tile(x=13, y=0, is_visited=0, visiting_agent=[], code_block=<CodeBlock.EMPTY: 'empty'>),\n",
       "  Tile(x=14, y=0, is_visited=0, visiting_agent=[], code_block=<CodeBlock.EMPTY: 'empty'>),\n",
       "  Tile(x=15, y=0, is_visited=0, visiting_agent=[], code_block=<CodeBlock.EMPTY: 'empty'>),\n",
       "  Tile(x=16, y=0, is_visited=0, visiting_agent=[], code_block=<CodeBlock.EMPTY: 'empty'>),\n",
       "  Tile(x=17, y=0, is_visited=0, visiting_agent=[], code_block=<CodeBlock.EMPTY: 'empty'>),\n",
       "  Tile(x=18, y=0, is_visited=0, visiting_agent=[], code_block=<CodeBlock.EMPTY: 'empty'>),\n",
       "  Tile(x=19, y=0, is_visited=0, visiting_agent=[], code_block=<CodeBlock.EMPTY: 'empty'>)],\n",
       " [Tile(x=0, y=1, is_visited=0, visiting_agent=[], code_block=<CodeBlock.EMPTY: 'empty'>),\n",
       "  Tile(x=1, y=1, is_visited=0, visiting_agent=[], code_block=<CodeBlock.EMPTY: 'empty'>),\n",
       "  Tile(x=2, y=1, is_visited=0, visiting_agent=[], code_block=<CodeBlock.EMPTY: 'empty'>),\n",
       "  Tile(x=3, y=1, is_visited=0, visiting_agent=[], code_block=<CodeBlock.EMPTY: 'empty'>),\n",
       "  Tile(x=4, y=1, is_visited=0, visiting_agent=[], code_block=<CodeBlock.EMPTY: 'empty'>),\n",
       "  Tile(x=5, y=1, is_visited=0, visiting_agent=[], code_block=<CodeBlock.EMPTY: 'empty'>),\n",
       "  Tile(x=6, y=1, is_visited=0, visiting_agent=[], code_block=<CodeBlock.EMPTY: 'empty'>),\n",
       "  Tile(x=7, y=1, is_visited=0, visiting_agent=[], code_block=<CodeBlock.EMPTY: 'empty'>),\n",
       "  Tile(x=8, y=1, is_visited=0, visiting_agent=[], code_block=<CodeBlock.EMPTY: 'empty'>),\n",
       "  Tile(x=9, y=1, is_visited=0, visiting_agent=[], code_block=<CodeBlock.EMPTY: 'empty'>),\n",
       "  Tile(x=10, y=1, is_visited=0, visiting_agent=[], code_block=<CodeBlock.EMPTY: 'empty'>),\n",
       "  Tile(x=11, y=1, is_visited=0, visiting_agent=[], code_block=<CodeBlock.EMPTY: 'empty'>),\n",
       "  Tile(x=12, y=1, is_visited=0, visiting_agent=[], code_block=<CodeBlock.EMPTY: 'empty'>),\n",
       "  Tile(x=13, y=1, is_visited=0, visiting_agent=[], code_block=<CodeBlock.EMPTY: 'empty'>),\n",
       "  Tile(x=14, y=1, is_visited=0, visiting_agent=[], code_block=<CodeBlock.EMPTY: 'empty'>),\n",
       "  Tile(x=15, y=1, is_visited=0, visiting_agent=[], code_block=<CodeBlock.EMPTY: 'empty'>),\n",
       "  Tile(x=16, y=1, is_visited=0, visiting_agent=[], code_block=<CodeBlock.EMPTY: 'empty'>),\n",
       "  Tile(x=17, y=1, is_visited=0, visiting_agent=[], code_block=<CodeBlock.EMPTY: 'empty'>),\n",
       "  Tile(x=18, y=1, is_visited=0, visiting_agent=[], code_block=<CodeBlock.EMPTY: 'empty'>),\n",
       "  Tile(x=19, y=1, is_visited=0, visiting_agent=[], code_block=<CodeBlock.EMPTY: 'empty'>)],\n",
       " [Tile(x=0, y=2, is_visited=0, visiting_agent=[], code_block=<CodeBlock.EMPTY: 'empty'>),\n",
       "  Tile(x=1, y=2, is_visited=0, visiting_agent=[], code_block=<CodeBlock.EMPTY: 'empty'>),\n",
       "  Tile(x=2, y=2, is_visited=0, visiting_agent=[], code_block=<CodeBlock.EMPTY: 'empty'>),\n",
       "  Tile(x=3, y=2, is_visited=0, visiting_agent=[], code_block=<CodeBlock.EMPTY: 'empty'>),\n",
       "  Tile(x=4, y=2, is_visited=0, visiting_agent=[], code_block=<CodeBlock.EMPTY: 'empty'>),\n",
       "  Tile(x=5, y=2, is_visited=0, visiting_agent=[], code_block=<CodeBlock.EMPTY: 'empty'>),\n",
       "  Tile(x=6, y=2, is_visited=0, visiting_agent=[], code_block=<CodeBlock.EMPTY: 'empty'>),\n",
       "  Tile(x=7, y=2, is_visited=0, visiting_agent=[], code_block=<CodeBlock.EMPTY: 'empty'>),\n",
       "  Tile(x=8, y=2, is_visited=0, visiting_agent=[], code_block=<CodeBlock.EMPTY: 'empty'>),\n",
       "  Tile(x=9, y=2, is_visited=0, visiting_agent=[], code_block=<CodeBlock.EMPTY: 'empty'>),\n",
       "  Tile(x=10, y=2, is_visited=0, visiting_agent=[], code_block=<CodeBlock.EMPTY: 'empty'>),\n",
       "  Tile(x=11, y=2, is_visited=0, visiting_agent=[], code_block=<CodeBlock.EMPTY: 'empty'>),\n",
       "  Tile(x=12, y=2, is_visited=0, visiting_agent=[], code_block=<CodeBlock.EMPTY: 'empty'>),\n",
       "  Tile(x=13, y=2, is_visited=0, visiting_agent=[], code_block=<CodeBlock.EMPTY: 'empty'>),\n",
       "  Tile(x=14, y=2, is_visited=0, visiting_agent=[], code_block=<CodeBlock.EMPTY: 'empty'>),\n",
       "  Tile(x=15, y=2, is_visited=0, visiting_agent=[], code_block=<CodeBlock.EMPTY: 'empty'>),\n",
       "  Tile(x=16, y=2, is_visited=0, visiting_agent=[], code_block=<CodeBlock.EMPTY: 'empty'>),\n",
       "  Tile(x=17, y=2, is_visited=0, visiting_agent=[], code_block=<CodeBlock.EMPTY: 'empty'>),\n",
       "  Tile(x=18, y=2, is_visited=0, visiting_agent=[], code_block=<CodeBlock.EMPTY: 'empty'>),\n",
       "  Tile(x=19, y=2, is_visited=0, visiting_agent=[], code_block=<CodeBlock.EMPTY: 'empty'>)],\n",
       " [Tile(x=0, y=3, is_visited=0, visiting_agent=[], code_block=<CodeBlock.EMPTY: 'empty'>),\n",
       "  Tile(x=1, y=3, is_visited=0, visiting_agent=[], code_block=<CodeBlock.EMPTY: 'empty'>),\n",
       "  Tile(x=2, y=3, is_visited=0, visiting_agent=[], code_block=<CodeBlock.EMPTY: 'empty'>),\n",
       "  Tile(x=3, y=3, is_visited=0, visiting_agent=[], code_block=<CodeBlock.EMPTY: 'empty'>),\n",
       "  Tile(x=4, y=3, is_visited=0, visiting_agent=[], code_block=<CodeBlock.EMPTY: 'empty'>),\n",
       "  Tile(x=5, y=3, is_visited=0, visiting_agent=[], code_block=<CodeBlock.EMPTY: 'empty'>),\n",
       "  Tile(x=6, y=3, is_visited=0, visiting_agent=[], code_block=<CodeBlock.EMPTY: 'empty'>),\n",
       "  Tile(x=7, y=3, is_visited=0, visiting_agent=[], code_block=<CodeBlock.EMPTY: 'empty'>),\n",
       "  Tile(x=8, y=3, is_visited=0, visiting_agent=[], code_block=<CodeBlock.EMPTY: 'empty'>),\n",
       "  Tile(x=9, y=3, is_visited=0, visiting_agent=[], code_block=<CodeBlock.EMPTY: 'empty'>),\n",
       "  Tile(x=10, y=3, is_visited=0, visiting_agent=[], code_block=<CodeBlock.EMPTY: 'empty'>),\n",
       "  Tile(x=11, y=3, is_visited=0, visiting_agent=[], code_block=<CodeBlock.EMPTY: 'empty'>),\n",
       "  Tile(x=12, y=3, is_visited=0, visiting_agent=[], code_block=<CodeBlock.EMPTY: 'empty'>),\n",
       "  Tile(x=13, y=3, is_visited=0, visiting_agent=[], code_block=<CodeBlock.EMPTY: 'empty'>),\n",
       "  Tile(x=14, y=3, is_visited=0, visiting_agent=[], code_block=<CodeBlock.EMPTY: 'empty'>),\n",
       "  Tile(x=15, y=3, is_visited=0, visiting_agent=[], code_block=<CodeBlock.EMPTY: 'empty'>),\n",
       "  Tile(x=16, y=3, is_visited=0, visiting_agent=[], code_block=<CodeBlock.EMPTY: 'empty'>),\n",
       "  Tile(x=17, y=3, is_visited=0, visiting_agent=[], code_block=<CodeBlock.EMPTY: 'empty'>),\n",
       "  Tile(x=18, y=3, is_visited=0, visiting_agent=[], code_block=<CodeBlock.EMPTY: 'empty'>),\n",
       "  Tile(x=19, y=3, is_visited=0, visiting_agent=[], code_block=<CodeBlock.EMPTY: 'empty'>)],\n",
       " [Tile(x=0, y=4, is_visited=0, visiting_agent=[], code_block=<CodeBlock.EMPTY: 'empty'>),\n",
       "  Tile(x=1, y=4, is_visited=0, visiting_agent=[], code_block=<CodeBlock.EMPTY: 'empty'>),\n",
       "  Tile(x=2, y=4, is_visited=0, visiting_agent=[], code_block=<CodeBlock.EMPTY: 'empty'>),\n",
       "  Tile(x=3, y=4, is_visited=0, visiting_agent=[], code_block=<CodeBlock.EMPTY: 'empty'>),\n",
       "  Tile(x=4, y=4, is_visited=0, visiting_agent=[], code_block=<CodeBlock.EMPTY: 'empty'>),\n",
       "  Tile(x=5, y=4, is_visited=0, visiting_agent=[], code_block=<CodeBlock.EMPTY: 'empty'>),\n",
       "  Tile(x=6, y=4, is_visited=0, visiting_agent=[], code_block=<CodeBlock.EMPTY: 'empty'>),\n",
       "  Tile(x=7, y=4, is_visited=0, visiting_agent=[], code_block=<CodeBlock.EMPTY: 'empty'>),\n",
       "  Tile(x=8, y=4, is_visited=0, visiting_agent=[], code_block=<CodeBlock.EMPTY: 'empty'>),\n",
       "  Tile(x=9, y=4, is_visited=0, visiting_agent=[], code_block=<CodeBlock.EMPTY: 'empty'>),\n",
       "  Tile(x=10, y=4, is_visited=0, visiting_agent=[], code_block=<CodeBlock.EMPTY: 'empty'>),\n",
       "  Tile(x=11, y=4, is_visited=0, visiting_agent=[], code_block=<CodeBlock.EMPTY: 'empty'>),\n",
       "  Tile(x=12, y=4, is_visited=0, visiting_agent=[], code_block=<CodeBlock.EMPTY: 'empty'>),\n",
       "  Tile(x=13, y=4, is_visited=0, visiting_agent=[], code_block=<CodeBlock.EMPTY: 'empty'>),\n",
       "  Tile(x=14, y=4, is_visited=0, visiting_agent=[], code_block=<CodeBlock.EMPTY: 'empty'>),\n",
       "  Tile(x=15, y=4, is_visited=0, visiting_agent=[], code_block=<CodeBlock.EMPTY: 'empty'>),\n",
       "  Tile(x=16, y=4, is_visited=0, visiting_agent=[], code_block=<CodeBlock.EMPTY: 'empty'>),\n",
       "  Tile(x=17, y=4, is_visited=0, visiting_agent=[], code_block=<CodeBlock.EMPTY: 'empty'>),\n",
       "  Tile(x=18, y=4, is_visited=0, visiting_agent=[], code_block=<CodeBlock.EMPTY: 'empty'>),\n",
       "  Tile(x=19, y=4, is_visited=0, visiting_agent=[], code_block=<CodeBlock.EMPTY: 'empty'>)],\n",
       " [Tile(x=0, y=5, is_visited=0, visiting_agent=[], code_block=<CodeBlock.EMPTY: 'empty'>),\n",
       "  Tile(x=1, y=5, is_visited=0, visiting_agent=[], code_block=<CodeBlock.EMPTY: 'empty'>),\n",
       "  Tile(x=2, y=5, is_visited=0, visiting_agent=[], code_block=<CodeBlock.EMPTY: 'empty'>),\n",
       "  Tile(x=3, y=5, is_visited=0, visiting_agent=[], code_block=<CodeBlock.EMPTY: 'empty'>),\n",
       "  Tile(x=4, y=5, is_visited=0, visiting_agent=[], code_block=<CodeBlock.EMPTY: 'empty'>),\n",
       "  Tile(x=5, y=5, is_visited=0, visiting_agent=[], code_block=<CodeBlock.EMPTY: 'empty'>),\n",
       "  Tile(x=6, y=5, is_visited=0, visiting_agent=[], code_block=<CodeBlock.EMPTY: 'empty'>),\n",
       "  Tile(x=7, y=5, is_visited=0, visiting_agent=[], code_block=<CodeBlock.EMPTY: 'empty'>),\n",
       "  Tile(x=8, y=5, is_visited=0, visiting_agent=[], code_block=<CodeBlock.EMPTY: 'empty'>),\n",
       "  Tile(x=9, y=5, is_visited=0, visiting_agent=[], code_block=<CodeBlock.EMPTY: 'empty'>),\n",
       "  Tile(x=10, y=5, is_visited=0, visiting_agent=[], code_block=<CodeBlock.EMPTY: 'empty'>),\n",
       "  Tile(x=11, y=5, is_visited=0, visiting_agent=[], code_block=<CodeBlock.EMPTY: 'empty'>),\n",
       "  Tile(x=12, y=5, is_visited=0, visiting_agent=[], code_block=<CodeBlock.EMPTY: 'empty'>),\n",
       "  Tile(x=13, y=5, is_visited=0, visiting_agent=[], code_block=<CodeBlock.EMPTY: 'empty'>),\n",
       "  Tile(x=14, y=5, is_visited=0, visiting_agent=[], code_block=<CodeBlock.EMPTY: 'empty'>),\n",
       "  Tile(x=15, y=5, is_visited=0, visiting_agent=[], code_block=<CodeBlock.EMPTY: 'empty'>),\n",
       "  Tile(x=16, y=5, is_visited=0, visiting_agent=[], code_block=<CodeBlock.EMPTY: 'empty'>),\n",
       "  Tile(x=17, y=5, is_visited=0, visiting_agent=[], code_block=<CodeBlock.EMPTY: 'empty'>),\n",
       "  Tile(x=18, y=5, is_visited=0, visiting_agent=[], code_block=<CodeBlock.EMPTY: 'empty'>),\n",
       "  Tile(x=19, y=5, is_visited=0, visiting_agent=[], code_block=<CodeBlock.EMPTY: 'empty'>)],\n",
       " [Tile(x=0, y=6, is_visited=0, visiting_agent=[], code_block=<CodeBlock.EMPTY: 'empty'>),\n",
       "  Tile(x=1, y=6, is_visited=0, visiting_agent=[], code_block=<CodeBlock.EMPTY: 'empty'>),\n",
       "  Tile(x=2, y=6, is_visited=0, visiting_agent=[], code_block=<CodeBlock.EMPTY: 'empty'>),\n",
       "  Tile(x=3, y=6, is_visited=0, visiting_agent=[], code_block=<CodeBlock.EMPTY: 'empty'>),\n",
       "  Tile(x=4, y=6, is_visited=0, visiting_agent=[], code_block=<CodeBlock.EMPTY: 'empty'>),\n",
       "  Tile(x=5, y=6, is_visited=0, visiting_agent=[], code_block=<CodeBlock.EMPTY: 'empty'>),\n",
       "  Tile(x=6, y=6, is_visited=0, visiting_agent=[], code_block=<CodeBlock.EMPTY: 'empty'>),\n",
       "  Tile(x=7, y=6, is_visited=0, visiting_agent=[], code_block=<CodeBlock.EMPTY: 'empty'>),\n",
       "  Tile(x=8, y=6, is_visited=0, visiting_agent=[], code_block=<CodeBlock.EMPTY: 'empty'>),\n",
       "  Tile(x=9, y=6, is_visited=0, visiting_agent=[], code_block=<CodeBlock.EMPTY: 'empty'>),\n",
       "  Tile(x=10, y=6, is_visited=0, visiting_agent=[], code_block=<CodeBlock.EMPTY: 'empty'>),\n",
       "  Tile(x=11, y=6, is_visited=0, visiting_agent=[], code_block=<CodeBlock.EMPTY: 'empty'>),\n",
       "  Tile(x=12, y=6, is_visited=0, visiting_agent=[], code_block=<CodeBlock.EMPTY: 'empty'>),\n",
       "  Tile(x=13, y=6, is_visited=0, visiting_agent=[], code_block=<CodeBlock.EMPTY: 'empty'>),\n",
       "  Tile(x=14, y=6, is_visited=0, visiting_agent=[], code_block=<CodeBlock.EMPTY: 'empty'>),\n",
       "  Tile(x=15, y=6, is_visited=0, visiting_agent=[], code_block=<CodeBlock.EMPTY: 'empty'>),\n",
       "  Tile(x=16, y=6, is_visited=0, visiting_agent=[], code_block=<CodeBlock.EMPTY: 'empty'>),\n",
       "  Tile(x=17, y=6, is_visited=0, visiting_agent=[], code_block=<CodeBlock.EMPTY: 'empty'>),\n",
       "  Tile(x=18, y=6, is_visited=0, visiting_agent=[], code_block=<CodeBlock.EMPTY: 'empty'>),\n",
       "  Tile(x=19, y=6, is_visited=0, visiting_agent=[], code_block=<CodeBlock.EMPTY: 'empty'>)],\n",
       " [Tile(x=0, y=7, is_visited=0, visiting_agent=[], code_block=<CodeBlock.EMPTY: 'empty'>),\n",
       "  Tile(x=1, y=7, is_visited=0, visiting_agent=[], code_block=<CodeBlock.EMPTY: 'empty'>),\n",
       "  Tile(x=2, y=7, is_visited=0, visiting_agent=[], code_block=<CodeBlock.EMPTY: 'empty'>),\n",
       "  Tile(x=3, y=7, is_visited=0, visiting_agent=[], code_block=<CodeBlock.EMPTY: 'empty'>),\n",
       "  Tile(x=4, y=7, is_visited=0, visiting_agent=[], code_block=<CodeBlock.EMPTY: 'empty'>),\n",
       "  Tile(x=5, y=7, is_visited=0, visiting_agent=[], code_block=<CodeBlock.EMPTY: 'empty'>),\n",
       "  Tile(x=6, y=7, is_visited=0, visiting_agent=[], code_block=<CodeBlock.EMPTY: 'empty'>),\n",
       "  Tile(x=7, y=7, is_visited=0, visiting_agent=[], code_block=<CodeBlock.EMPTY: 'empty'>),\n",
       "  Tile(x=8, y=7, is_visited=0, visiting_agent=[], code_block=<CodeBlock.EMPTY: 'empty'>),\n",
       "  Tile(x=9, y=7, is_visited=0, visiting_agent=[], code_block=<CodeBlock.EMPTY: 'empty'>),\n",
       "  Tile(x=10, y=7, is_visited=0, visiting_agent=[], code_block=<CodeBlock.EMPTY: 'empty'>),\n",
       "  Tile(x=11, y=7, is_visited=0, visiting_agent=[], code_block=<CodeBlock.EMPTY: 'empty'>),\n",
       "  Tile(x=12, y=7, is_visited=0, visiting_agent=[], code_block=<CodeBlock.EMPTY: 'empty'>),\n",
       "  Tile(x=13, y=7, is_visited=0, visiting_agent=[], code_block=<CodeBlock.EMPTY: 'empty'>),\n",
       "  Tile(x=14, y=7, is_visited=0, visiting_agent=[], code_block=<CodeBlock.EMPTY: 'empty'>),\n",
       "  Tile(x=15, y=7, is_visited=0, visiting_agent=[], code_block=<CodeBlock.EMPTY: 'empty'>),\n",
       "  Tile(x=16, y=7, is_visited=0, visiting_agent=[], code_block=<CodeBlock.EMPTY: 'empty'>),\n",
       "  Tile(x=17, y=7, is_visited=0, visiting_agent=[], code_block=<CodeBlock.EMPTY: 'empty'>),\n",
       "  Tile(x=18, y=7, is_visited=0, visiting_agent=[], code_block=<CodeBlock.EMPTY: 'empty'>),\n",
       "  Tile(x=19, y=7, is_visited=0, visiting_agent=[], code_block=<CodeBlock.EMPTY: 'empty'>)],\n",
       " [Tile(x=0, y=8, is_visited=0, visiting_agent=[], code_block=<CodeBlock.EMPTY: 'empty'>),\n",
       "  Tile(x=1, y=8, is_visited=0, visiting_agent=[], code_block=<CodeBlock.EMPTY: 'empty'>),\n",
       "  Tile(x=2, y=8, is_visited=0, visiting_agent=[], code_block=<CodeBlock.EMPTY: 'empty'>),\n",
       "  Tile(x=3, y=8, is_visited=0, visiting_agent=[], code_block=<CodeBlock.EMPTY: 'empty'>),\n",
       "  Tile(x=4, y=8, is_visited=0, visiting_agent=[], code_block=<CodeBlock.EMPTY: 'empty'>),\n",
       "  Tile(x=5, y=8, is_visited=0, visiting_agent=[], code_block=<CodeBlock.EMPTY: 'empty'>),\n",
       "  Tile(x=6, y=8, is_visited=0, visiting_agent=[], code_block=<CodeBlock.EMPTY: 'empty'>),\n",
       "  Tile(x=7, y=8, is_visited=0, visiting_agent=[], code_block=<CodeBlock.EMPTY: 'empty'>),\n",
       "  Tile(x=8, y=8, is_visited=0, visiting_agent=[], code_block=<CodeBlock.EMPTY: 'empty'>),\n",
       "  Tile(x=9, y=8, is_visited=0, visiting_agent=[], code_block=<CodeBlock.EMPTY: 'empty'>),\n",
       "  Tile(x=10, y=8, is_visited=0, visiting_agent=[], code_block=<CodeBlock.EMPTY: 'empty'>),\n",
       "  Tile(x=11, y=8, is_visited=0, visiting_agent=[], code_block=<CodeBlock.EMPTY: 'empty'>),\n",
       "  Tile(x=12, y=8, is_visited=0, visiting_agent=[], code_block=<CodeBlock.EMPTY: 'empty'>),\n",
       "  Tile(x=13, y=8, is_visited=0, visiting_agent=[], code_block=<CodeBlock.EMPTY: 'empty'>),\n",
       "  Tile(x=14, y=8, is_visited=0, visiting_agent=[], code_block=<CodeBlock.EMPTY: 'empty'>),\n",
       "  Tile(x=15, y=8, is_visited=0, visiting_agent=[], code_block=<CodeBlock.EMPTY: 'empty'>),\n",
       "  Tile(x=16, y=8, is_visited=0, visiting_agent=[], code_block=<CodeBlock.EMPTY: 'empty'>),\n",
       "  Tile(x=17, y=8, is_visited=0, visiting_agent=[], code_block=<CodeBlock.EMPTY: 'empty'>),\n",
       "  Tile(x=18, y=8, is_visited=0, visiting_agent=[], code_block=<CodeBlock.EMPTY: 'empty'>),\n",
       "  Tile(x=19, y=8, is_visited=0, visiting_agent=[], code_block=<CodeBlock.EMPTY: 'empty'>)],\n",
       " [Tile(x=0, y=9, is_visited=0, visiting_agent=[], code_block=<CodeBlock.EMPTY: 'empty'>),\n",
       "  Tile(x=1, y=9, is_visited=0, visiting_agent=[], code_block=<CodeBlock.EMPTY: 'empty'>),\n",
       "  Tile(x=2, y=9, is_visited=0, visiting_agent=[], code_block=<CodeBlock.EMPTY: 'empty'>),\n",
       "  Tile(x=3, y=9, is_visited=0, visiting_agent=[], code_block=<CodeBlock.EMPTY: 'empty'>),\n",
       "  Tile(x=4, y=9, is_visited=0, visiting_agent=[], code_block=<CodeBlock.EMPTY: 'empty'>),\n",
       "  Tile(x=5, y=9, is_visited=0, visiting_agent=[], code_block=<CodeBlock.EMPTY: 'empty'>),\n",
       "  Tile(x=6, y=9, is_visited=0, visiting_agent=[], code_block=<CodeBlock.EMPTY: 'empty'>),\n",
       "  Tile(x=7, y=9, is_visited=0, visiting_agent=[], code_block=<CodeBlock.EMPTY: 'empty'>),\n",
       "  Tile(x=8, y=9, is_visited=0, visiting_agent=[], code_block=<CodeBlock.EMPTY: 'empty'>),\n",
       "  Tile(x=9, y=9, is_visited=0, visiting_agent=[], code_block=<CodeBlock.EMPTY: 'empty'>),\n",
       "  Tile(x=10, y=9, is_visited=0, visiting_agent=[], code_block=<CodeBlock.EMPTY: 'empty'>),\n",
       "  Tile(x=11, y=9, is_visited=0, visiting_agent=[], code_block=<CodeBlock.EMPTY: 'empty'>),\n",
       "  Tile(x=12, y=9, is_visited=0, visiting_agent=[], code_block=<CodeBlock.EMPTY: 'empty'>),\n",
       "  Tile(x=13, y=9, is_visited=0, visiting_agent=[], code_block=<CodeBlock.EMPTY: 'empty'>),\n",
       "  Tile(x=14, y=9, is_visited=0, visiting_agent=[], code_block=<CodeBlock.EMPTY: 'empty'>),\n",
       "  Tile(x=15, y=9, is_visited=0, visiting_agent=[], code_block=<CodeBlock.EMPTY: 'empty'>),\n",
       "  Tile(x=16, y=9, is_visited=0, visiting_agent=[], code_block=<CodeBlock.EMPTY: 'empty'>),\n",
       "  Tile(x=17, y=9, is_visited=0, visiting_agent=[], code_block=<CodeBlock.EMPTY: 'empty'>),\n",
       "  Tile(x=18, y=9, is_visited=0, visiting_agent=[], code_block=<CodeBlock.EMPTY: 'empty'>),\n",
       "  Tile(x=19, y=9, is_visited=0, visiting_agent=[], code_block=<CodeBlock.EMPTY: 'empty'>)],\n",
       " [Tile(x=0, y=10, is_visited=0, visiting_agent=[], code_block=<CodeBlock.EMPTY: 'empty'>),\n",
       "  Tile(x=1, y=10, is_visited=0, visiting_agent=[], code_block=<CodeBlock.EMPTY: 'empty'>),\n",
       "  Tile(x=2, y=10, is_visited=0, visiting_agent=[], code_block=<CodeBlock.EMPTY: 'empty'>),\n",
       "  Tile(x=3, y=10, is_visited=0, visiting_agent=[], code_block=<CodeBlock.EMPTY: 'empty'>),\n",
       "  Tile(x=4, y=10, is_visited=0, visiting_agent=[], code_block=<CodeBlock.EMPTY: 'empty'>),\n",
       "  Tile(x=5, y=10, is_visited=0, visiting_agent=[], code_block=<CodeBlock.EMPTY: 'empty'>),\n",
       "  Tile(x=6, y=10, is_visited=0, visiting_agent=[], code_block=<CodeBlock.EMPTY: 'empty'>),\n",
       "  Tile(x=7, y=10, is_visited=0, visiting_agent=[], code_block=<CodeBlock.EMPTY: 'empty'>),\n",
       "  Tile(x=8, y=10, is_visited=0, visiting_agent=[], code_block=<CodeBlock.EMPTY: 'empty'>),\n",
       "  Tile(x=9, y=10, is_visited=0, visiting_agent=[], code_block=<CodeBlock.EMPTY: 'empty'>),\n",
       "  Tile(x=10, y=10, is_visited=0, visiting_agent=[], code_block=<CodeBlock.EMPTY: 'empty'>),\n",
       "  Tile(x=11, y=10, is_visited=0, visiting_agent=[], code_block=<CodeBlock.EMPTY: 'empty'>),\n",
       "  Tile(x=12, y=10, is_visited=0, visiting_agent=[], code_block=<CodeBlock.EMPTY: 'empty'>),\n",
       "  Tile(x=13, y=10, is_visited=0, visiting_agent=[], code_block=<CodeBlock.EMPTY: 'empty'>),\n",
       "  Tile(x=14, y=10, is_visited=0, visiting_agent=[], code_block=<CodeBlock.EMPTY: 'empty'>),\n",
       "  Tile(x=15, y=10, is_visited=0, visiting_agent=[], code_block=<CodeBlock.EMPTY: 'empty'>),\n",
       "  Tile(x=16, y=10, is_visited=0, visiting_agent=[], code_block=<CodeBlock.EMPTY: 'empty'>),\n",
       "  Tile(x=17, y=10, is_visited=0, visiting_agent=[], code_block=<CodeBlock.EMPTY: 'empty'>),\n",
       "  Tile(x=18, y=10, is_visited=0, visiting_agent=[], code_block=<CodeBlock.EMPTY: 'empty'>),\n",
       "  Tile(x=19, y=10, is_visited=0, visiting_agent=[], code_block=<CodeBlock.EMPTY: 'empty'>)],\n",
       " [Tile(x=0, y=11, is_visited=0, visiting_agent=[], code_block=<CodeBlock.EMPTY: 'empty'>),\n",
       "  Tile(x=1, y=11, is_visited=0, visiting_agent=[], code_block=<CodeBlock.EMPTY: 'empty'>),\n",
       "  Tile(x=2, y=11, is_visited=0, visiting_agent=[], code_block=<CodeBlock.EMPTY: 'empty'>),\n",
       "  Tile(x=3, y=11, is_visited=0, visiting_agent=[], code_block=<CodeBlock.EMPTY: 'empty'>),\n",
       "  Tile(x=4, y=11, is_visited=0, visiting_agent=[], code_block=<CodeBlock.EMPTY: 'empty'>),\n",
       "  Tile(x=5, y=11, is_visited=0, visiting_agent=[], code_block=<CodeBlock.EMPTY: 'empty'>),\n",
       "  Tile(x=6, y=11, is_visited=0, visiting_agent=[], code_block=<CodeBlock.EMPTY: 'empty'>),\n",
       "  Tile(x=7, y=11, is_visited=0, visiting_agent=[], code_block=<CodeBlock.EMPTY: 'empty'>),\n",
       "  Tile(x=8, y=11, is_visited=0, visiting_agent=[], code_block=<CodeBlock.EMPTY: 'empty'>),\n",
       "  Tile(x=9, y=11, is_visited=0, visiting_agent=[], code_block=<CodeBlock.EMPTY: 'empty'>),\n",
       "  Tile(x=10, y=11, is_visited=0, visiting_agent=[], code_block=<CodeBlock.EMPTY: 'empty'>),\n",
       "  Tile(x=11, y=11, is_visited=0, visiting_agent=[], code_block=<CodeBlock.EMPTY: 'empty'>),\n",
       "  Tile(x=12, y=11, is_visited=0, visiting_agent=[], code_block=<CodeBlock.EMPTY: 'empty'>),\n",
       "  Tile(x=13, y=11, is_visited=0, visiting_agent=[], code_block=<CodeBlock.EMPTY: 'empty'>),\n",
       "  Tile(x=14, y=11, is_visited=0, visiting_agent=[], code_block=<CodeBlock.EMPTY: 'empty'>),\n",
       "  Tile(x=15, y=11, is_visited=0, visiting_agent=[], code_block=<CodeBlock.EMPTY: 'empty'>),\n",
       "  Tile(x=16, y=11, is_visited=0, visiting_agent=[], code_block=<CodeBlock.EMPTY: 'empty'>),\n",
       "  Tile(x=17, y=11, is_visited=0, visiting_agent=[], code_block=<CodeBlock.EMPTY: 'empty'>),\n",
       "  Tile(x=18, y=11, is_visited=0, visiting_agent=[], code_block=<CodeBlock.EMPTY: 'empty'>),\n",
       "  Tile(x=19, y=11, is_visited=0, visiting_agent=[], code_block=<CodeBlock.EMPTY: 'empty'>)],\n",
       " [Tile(x=0, y=12, is_visited=0, visiting_agent=[], code_block=<CodeBlock.EMPTY: 'empty'>),\n",
       "  Tile(x=1, y=12, is_visited=0, visiting_agent=[], code_block=<CodeBlock.EMPTY: 'empty'>),\n",
       "  Tile(x=2, y=12, is_visited=0, visiting_agent=[], code_block=<CodeBlock.EMPTY: 'empty'>),\n",
       "  Tile(x=3, y=12, is_visited=0, visiting_agent=[], code_block=<CodeBlock.EMPTY: 'empty'>),\n",
       "  Tile(x=4, y=12, is_visited=0, visiting_agent=[], code_block=<CodeBlock.EMPTY: 'empty'>),\n",
       "  Tile(x=5, y=12, is_visited=0, visiting_agent=[], code_block=<CodeBlock.EMPTY: 'empty'>),\n",
       "  Tile(x=6, y=12, is_visited=0, visiting_agent=[], code_block=<CodeBlock.EMPTY: 'empty'>),\n",
       "  Tile(x=7, y=12, is_visited=0, visiting_agent=[], code_block=<CodeBlock.EMPTY: 'empty'>),\n",
       "  Tile(x=8, y=12, is_visited=0, visiting_agent=[], code_block=<CodeBlock.EMPTY: 'empty'>),\n",
       "  Tile(x=9, y=12, is_visited=0, visiting_agent=[], code_block=<CodeBlock.EMPTY: 'empty'>),\n",
       "  Tile(x=10, y=12, is_visited=0, visiting_agent=[], code_block=<CodeBlock.EMPTY: 'empty'>),\n",
       "  Tile(x=11, y=12, is_visited=0, visiting_agent=[], code_block=<CodeBlock.EMPTY: 'empty'>),\n",
       "  Tile(x=12, y=12, is_visited=0, visiting_agent=[], code_block=<CodeBlock.EMPTY: 'empty'>),\n",
       "  Tile(x=13, y=12, is_visited=0, visiting_agent=[], code_block=<CodeBlock.EMPTY: 'empty'>),\n",
       "  Tile(x=14, y=12, is_visited=0, visiting_agent=[], code_block=<CodeBlock.EMPTY: 'empty'>),\n",
       "  Tile(x=15, y=12, is_visited=0, visiting_agent=[], code_block=<CodeBlock.EMPTY: 'empty'>),\n",
       "  Tile(x=16, y=12, is_visited=0, visiting_agent=[], code_block=<CodeBlock.EMPTY: 'empty'>),\n",
       "  Tile(x=17, y=12, is_visited=0, visiting_agent=[], code_block=<CodeBlock.EMPTY: 'empty'>),\n",
       "  Tile(x=18, y=12, is_visited=0, visiting_agent=[], code_block=<CodeBlock.EMPTY: 'empty'>),\n",
       "  Tile(x=19, y=12, is_visited=0, visiting_agent=[], code_block=<CodeBlock.EMPTY: 'empty'>)],\n",
       " [Tile(x=0, y=13, is_visited=0, visiting_agent=[], code_block=<CodeBlock.EMPTY: 'empty'>),\n",
       "  Tile(x=1, y=13, is_visited=0, visiting_agent=[], code_block=<CodeBlock.EMPTY: 'empty'>),\n",
       "  Tile(x=2, y=13, is_visited=0, visiting_agent=[], code_block=<CodeBlock.EMPTY: 'empty'>),\n",
       "  Tile(x=3, y=13, is_visited=0, visiting_agent=[], code_block=<CodeBlock.EMPTY: 'empty'>),\n",
       "  Tile(x=4, y=13, is_visited=0, visiting_agent=[], code_block=<CodeBlock.EMPTY: 'empty'>),\n",
       "  Tile(x=5, y=13, is_visited=0, visiting_agent=[], code_block=<CodeBlock.EMPTY: 'empty'>),\n",
       "  Tile(x=6, y=13, is_visited=0, visiting_agent=[], code_block=<CodeBlock.EMPTY: 'empty'>),\n",
       "  Tile(x=7, y=13, is_visited=0, visiting_agent=[], code_block=<CodeBlock.EMPTY: 'empty'>),\n",
       "  Tile(x=8, y=13, is_visited=0, visiting_agent=[], code_block=<CodeBlock.EMPTY: 'empty'>),\n",
       "  Tile(x=9, y=13, is_visited=0, visiting_agent=[], code_block=<CodeBlock.EMPTY: 'empty'>),\n",
       "  Tile(x=10, y=13, is_visited=0, visiting_agent=[], code_block=<CodeBlock.EMPTY: 'empty'>),\n",
       "  Tile(x=11, y=13, is_visited=0, visiting_agent=[], code_block=<CodeBlock.EMPTY: 'empty'>),\n",
       "  Tile(x=12, y=13, is_visited=0, visiting_agent=[], code_block=<CodeBlock.EMPTY: 'empty'>),\n",
       "  Tile(x=13, y=13, is_visited=0, visiting_agent=[], code_block=<CodeBlock.EMPTY: 'empty'>),\n",
       "  Tile(x=14, y=13, is_visited=0, visiting_agent=[], code_block=<CodeBlock.EMPTY: 'empty'>),\n",
       "  Tile(x=15, y=13, is_visited=0, visiting_agent=[], code_block=<CodeBlock.EMPTY: 'empty'>),\n",
       "  Tile(x=16, y=13, is_visited=0, visiting_agent=[], code_block=<CodeBlock.EMPTY: 'empty'>),\n",
       "  Tile(x=17, y=13, is_visited=0, visiting_agent=[], code_block=<CodeBlock.EMPTY: 'empty'>),\n",
       "  Tile(x=18, y=13, is_visited=0, visiting_agent=[], code_block=<CodeBlock.EMPTY: 'empty'>),\n",
       "  Tile(x=19, y=13, is_visited=0, visiting_agent=[], code_block=<CodeBlock.EMPTY: 'empty'>)],\n",
       " [Tile(x=0, y=14, is_visited=0, visiting_agent=[], code_block=<CodeBlock.EMPTY: 'empty'>),\n",
       "  Tile(x=1, y=14, is_visited=0, visiting_agent=[], code_block=<CodeBlock.EMPTY: 'empty'>),\n",
       "  Tile(x=2, y=14, is_visited=0, visiting_agent=[], code_block=<CodeBlock.EMPTY: 'empty'>),\n",
       "  Tile(x=3, y=14, is_visited=0, visiting_agent=[], code_block=<CodeBlock.EMPTY: 'empty'>),\n",
       "  Tile(x=4, y=14, is_visited=0, visiting_agent=[], code_block=<CodeBlock.EMPTY: 'empty'>),\n",
       "  Tile(x=5, y=14, is_visited=0, visiting_agent=[], code_block=<CodeBlock.EMPTY: 'empty'>),\n",
       "  Tile(x=6, y=14, is_visited=0, visiting_agent=[], code_block=<CodeBlock.EMPTY: 'empty'>),\n",
       "  Tile(x=7, y=14, is_visited=0, visiting_agent=[], code_block=<CodeBlock.EMPTY: 'empty'>),\n",
       "  Tile(x=8, y=14, is_visited=0, visiting_agent=[], code_block=<CodeBlock.EMPTY: 'empty'>),\n",
       "  Tile(x=9, y=14, is_visited=0, visiting_agent=[], code_block=<CodeBlock.EMPTY: 'empty'>),\n",
       "  Tile(x=10, y=14, is_visited=0, visiting_agent=[], code_block=<CodeBlock.EMPTY: 'empty'>),\n",
       "  Tile(x=11, y=14, is_visited=0, visiting_agent=[], code_block=<CodeBlock.EMPTY: 'empty'>),\n",
       "  Tile(x=12, y=14, is_visited=0, visiting_agent=[], code_block=<CodeBlock.EMPTY: 'empty'>),\n",
       "  Tile(x=13, y=14, is_visited=0, visiting_agent=[], code_block=<CodeBlock.EMPTY: 'empty'>),\n",
       "  Tile(x=14, y=14, is_visited=0, visiting_agent=[], code_block=<CodeBlock.EMPTY: 'empty'>),\n",
       "  Tile(x=15, y=14, is_visited=0, visiting_agent=[], code_block=<CodeBlock.EMPTY: 'empty'>),\n",
       "  Tile(x=16, y=14, is_visited=0, visiting_agent=[], code_block=<CodeBlock.EMPTY: 'empty'>),\n",
       "  Tile(x=17, y=14, is_visited=0, visiting_agent=[], code_block=<CodeBlock.EMPTY: 'empty'>),\n",
       "  Tile(x=18, y=14, is_visited=0, visiting_agent=[], code_block=<CodeBlock.EMPTY: 'empty'>),\n",
       "  Tile(x=19, y=14, is_visited=0, visiting_agent=[], code_block=<CodeBlock.EMPTY: 'empty'>)],\n",
       " [Tile(x=0, y=15, is_visited=0, visiting_agent=[], code_block=<CodeBlock.EMPTY: 'empty'>),\n",
       "  Tile(x=1, y=15, is_visited=0, visiting_agent=[], code_block=<CodeBlock.EMPTY: 'empty'>),\n",
       "  Tile(x=2, y=15, is_visited=0, visiting_agent=[], code_block=<CodeBlock.EMPTY: 'empty'>),\n",
       "  Tile(x=3, y=15, is_visited=0, visiting_agent=[], code_block=<CodeBlock.EMPTY: 'empty'>),\n",
       "  Tile(x=4, y=15, is_visited=0, visiting_agent=[], code_block=<CodeBlock.EMPTY: 'empty'>),\n",
       "  Tile(x=5, y=15, is_visited=0, visiting_agent=[], code_block=<CodeBlock.EMPTY: 'empty'>),\n",
       "  Tile(x=6, y=15, is_visited=0, visiting_agent=[], code_block=<CodeBlock.EMPTY: 'empty'>),\n",
       "  Tile(x=7, y=15, is_visited=0, visiting_agent=[], code_block=<CodeBlock.EMPTY: 'empty'>),\n",
       "  Tile(x=8, y=15, is_visited=0, visiting_agent=[], code_block=<CodeBlock.EMPTY: 'empty'>),\n",
       "  Tile(x=9, y=15, is_visited=0, visiting_agent=[], code_block=<CodeBlock.EMPTY: 'empty'>),\n",
       "  Tile(x=10, y=15, is_visited=0, visiting_agent=[], code_block=<CodeBlock.EMPTY: 'empty'>),\n",
       "  Tile(x=11, y=15, is_visited=0, visiting_agent=[], code_block=<CodeBlock.EMPTY: 'empty'>),\n",
       "  Tile(x=12, y=15, is_visited=0, visiting_agent=[], code_block=<CodeBlock.EMPTY: 'empty'>),\n",
       "  Tile(x=13, y=15, is_visited=0, visiting_agent=[], code_block=<CodeBlock.EMPTY: 'empty'>),\n",
       "  Tile(x=14, y=15, is_visited=0, visiting_agent=[], code_block=<CodeBlock.EMPTY: 'empty'>),\n",
       "  Tile(x=15, y=15, is_visited=0, visiting_agent=[], code_block=<CodeBlock.EMPTY: 'empty'>),\n",
       "  Tile(x=16, y=15, is_visited=0, visiting_agent=[], code_block=<CodeBlock.EMPTY: 'empty'>),\n",
       "  Tile(x=17, y=15, is_visited=0, visiting_agent=[], code_block=<CodeBlock.EMPTY: 'empty'>),\n",
       "  Tile(x=18, y=15, is_visited=0, visiting_agent=[], code_block=<CodeBlock.EMPTY: 'empty'>),\n",
       "  Tile(x=19, y=15, is_visited=0, visiting_agent=[], code_block=<CodeBlock.EMPTY: 'empty'>)],\n",
       " [Tile(x=0, y=16, is_visited=0, visiting_agent=[], code_block=<CodeBlock.EMPTY: 'empty'>),\n",
       "  Tile(x=1, y=16, is_visited=0, visiting_agent=[], code_block=<CodeBlock.EMPTY: 'empty'>),\n",
       "  Tile(x=2, y=16, is_visited=0, visiting_agent=[], code_block=<CodeBlock.EMPTY: 'empty'>),\n",
       "  Tile(x=3, y=16, is_visited=0, visiting_agent=[], code_block=<CodeBlock.EMPTY: 'empty'>),\n",
       "  Tile(x=4, y=16, is_visited=0, visiting_agent=[], code_block=<CodeBlock.EMPTY: 'empty'>),\n",
       "  Tile(x=5, y=16, is_visited=0, visiting_agent=[], code_block=<CodeBlock.EMPTY: 'empty'>),\n",
       "  Tile(x=6, y=16, is_visited=0, visiting_agent=[], code_block=<CodeBlock.EMPTY: 'empty'>),\n",
       "  Tile(x=7, y=16, is_visited=0, visiting_agent=[], code_block=<CodeBlock.EMPTY: 'empty'>),\n",
       "  Tile(x=8, y=16, is_visited=0, visiting_agent=[], code_block=<CodeBlock.EMPTY: 'empty'>),\n",
       "  Tile(x=9, y=16, is_visited=0, visiting_agent=[], code_block=<CodeBlock.EMPTY: 'empty'>),\n",
       "  Tile(x=10, y=16, is_visited=0, visiting_agent=[], code_block=<CodeBlock.EMPTY: 'empty'>),\n",
       "  Tile(x=11, y=16, is_visited=0, visiting_agent=[], code_block=<CodeBlock.EMPTY: 'empty'>),\n",
       "  Tile(x=12, y=16, is_visited=0, visiting_agent=[], code_block=<CodeBlock.EMPTY: 'empty'>),\n",
       "  Tile(x=13, y=16, is_visited=0, visiting_agent=[], code_block=<CodeBlock.EMPTY: 'empty'>),\n",
       "  Tile(x=14, y=16, is_visited=0, visiting_agent=[], code_block=<CodeBlock.EMPTY: 'empty'>),\n",
       "  Tile(x=15, y=16, is_visited=0, visiting_agent=[], code_block=<CodeBlock.EMPTY: 'empty'>),\n",
       "  Tile(x=16, y=16, is_visited=0, visiting_agent=[], code_block=<CodeBlock.EMPTY: 'empty'>),\n",
       "  Tile(x=17, y=16, is_visited=0, visiting_agent=[], code_block=<CodeBlock.EMPTY: 'empty'>),\n",
       "  Tile(x=18, y=16, is_visited=0, visiting_agent=[], code_block=<CodeBlock.EMPTY: 'empty'>),\n",
       "  Tile(x=19, y=16, is_visited=0, visiting_agent=[], code_block=<CodeBlock.EMPTY: 'empty'>)],\n",
       " [Tile(x=0, y=17, is_visited=0, visiting_agent=[], code_block=<CodeBlock.EMPTY: 'empty'>),\n",
       "  Tile(x=1, y=17, is_visited=0, visiting_agent=[], code_block=<CodeBlock.EMPTY: 'empty'>),\n",
       "  Tile(x=2, y=17, is_visited=0, visiting_agent=[], code_block=<CodeBlock.EMPTY: 'empty'>),\n",
       "  Tile(x=3, y=17, is_visited=0, visiting_agent=[], code_block=<CodeBlock.EMPTY: 'empty'>),\n",
       "  Tile(x=4, y=17, is_visited=0, visiting_agent=[], code_block=<CodeBlock.EMPTY: 'empty'>),\n",
       "  Tile(x=5, y=17, is_visited=0, visiting_agent=[], code_block=<CodeBlock.EMPTY: 'empty'>),\n",
       "  Tile(x=6, y=17, is_visited=0, visiting_agent=[], code_block=<CodeBlock.EMPTY: 'empty'>),\n",
       "  Tile(x=7, y=17, is_visited=0, visiting_agent=[], code_block=<CodeBlock.EMPTY: 'empty'>),\n",
       "  Tile(x=8, y=17, is_visited=0, visiting_agent=[], code_block=<CodeBlock.EMPTY: 'empty'>),\n",
       "  Tile(x=9, y=17, is_visited=0, visiting_agent=[], code_block=<CodeBlock.EMPTY: 'empty'>),\n",
       "  Tile(x=10, y=17, is_visited=0, visiting_agent=[], code_block=<CodeBlock.EMPTY: 'empty'>),\n",
       "  Tile(x=11, y=17, is_visited=0, visiting_agent=[], code_block=<CodeBlock.EMPTY: 'empty'>),\n",
       "  Tile(x=12, y=17, is_visited=0, visiting_agent=[], code_block=<CodeBlock.EMPTY: 'empty'>),\n",
       "  Tile(x=13, y=17, is_visited=0, visiting_agent=[], code_block=<CodeBlock.EMPTY: 'empty'>),\n",
       "  Tile(x=14, y=17, is_visited=0, visiting_agent=[], code_block=<CodeBlock.EMPTY: 'empty'>),\n",
       "  Tile(x=15, y=17, is_visited=0, visiting_agent=[], code_block=<CodeBlock.EMPTY: 'empty'>),\n",
       "  Tile(x=16, y=17, is_visited=0, visiting_agent=[], code_block=<CodeBlock.EMPTY: 'empty'>),\n",
       "  Tile(x=17, y=17, is_visited=0, visiting_agent=[], code_block=<CodeBlock.EMPTY: 'empty'>),\n",
       "  Tile(x=18, y=17, is_visited=0, visiting_agent=[], code_block=<CodeBlock.EMPTY: 'empty'>),\n",
       "  Tile(x=19, y=17, is_visited=0, visiting_agent=[], code_block=<CodeBlock.EMPTY: 'empty'>)],\n",
       " [Tile(x=0, y=18, is_visited=0, visiting_agent=[], code_block=<CodeBlock.EMPTY: 'empty'>),\n",
       "  Tile(x=1, y=18, is_visited=0, visiting_agent=[], code_block=<CodeBlock.EMPTY: 'empty'>),\n",
       "  Tile(x=2, y=18, is_visited=0, visiting_agent=[], code_block=<CodeBlock.EMPTY: 'empty'>),\n",
       "  Tile(x=3, y=18, is_visited=0, visiting_agent=[], code_block=<CodeBlock.EMPTY: 'empty'>),\n",
       "  Tile(x=4, y=18, is_visited=0, visiting_agent=[], code_block=<CodeBlock.EMPTY: 'empty'>),\n",
       "  Tile(x=5, y=18, is_visited=0, visiting_agent=[], code_block=<CodeBlock.EMPTY: 'empty'>),\n",
       "  Tile(x=6, y=18, is_visited=0, visiting_agent=[], code_block=<CodeBlock.EMPTY: 'empty'>),\n",
       "  Tile(x=7, y=18, is_visited=0, visiting_agent=[], code_block=<CodeBlock.EMPTY: 'empty'>),\n",
       "  Tile(x=8, y=18, is_visited=0, visiting_agent=[], code_block=<CodeBlock.EMPTY: 'empty'>),\n",
       "  Tile(x=9, y=18, is_visited=0, visiting_agent=[], code_block=<CodeBlock.EMPTY: 'empty'>),\n",
       "  Tile(x=10, y=18, is_visited=0, visiting_agent=[], code_block=<CodeBlock.EMPTY: 'empty'>),\n",
       "  Tile(x=11, y=18, is_visited=0, visiting_agent=[], code_block=<CodeBlock.EMPTY: 'empty'>),\n",
       "  Tile(x=12, y=18, is_visited=0, visiting_agent=[], code_block=<CodeBlock.EMPTY: 'empty'>),\n",
       "  Tile(x=13, y=18, is_visited=0, visiting_agent=[], code_block=<CodeBlock.EMPTY: 'empty'>),\n",
       "  Tile(x=14, y=18, is_visited=0, visiting_agent=[], code_block=<CodeBlock.EMPTY: 'empty'>),\n",
       "  Tile(x=15, y=18, is_visited=0, visiting_agent=[], code_block=<CodeBlock.EMPTY: 'empty'>),\n",
       "  Tile(x=16, y=18, is_visited=0, visiting_agent=[], code_block=<CodeBlock.EMPTY: 'empty'>),\n",
       "  Tile(x=17, y=18, is_visited=0, visiting_agent=[], code_block=<CodeBlock.EMPTY: 'empty'>),\n",
       "  Tile(x=18, y=18, is_visited=0, visiting_agent=[], code_block=<CodeBlock.EMPTY: 'empty'>),\n",
       "  Tile(x=19, y=18, is_visited=0, visiting_agent=[], code_block=<CodeBlock.EMPTY: 'empty'>)],\n",
       " [Tile(x=0, y=19, is_visited=0, visiting_agent=[], code_block=<CodeBlock.EMPTY: 'empty'>),\n",
       "  Tile(x=1, y=19, is_visited=0, visiting_agent=[], code_block=<CodeBlock.EMPTY: 'empty'>),\n",
       "  Tile(x=2, y=19, is_visited=0, visiting_agent=[], code_block=<CodeBlock.EMPTY: 'empty'>),\n",
       "  Tile(x=3, y=19, is_visited=0, visiting_agent=[], code_block=<CodeBlock.EMPTY: 'empty'>),\n",
       "  Tile(x=4, y=19, is_visited=0, visiting_agent=[], code_block=<CodeBlock.EMPTY: 'empty'>),\n",
       "  Tile(x=5, y=19, is_visited=0, visiting_agent=[], code_block=<CodeBlock.EMPTY: 'empty'>),\n",
       "  Tile(x=6, y=19, is_visited=0, visiting_agent=[], code_block=<CodeBlock.EMPTY: 'empty'>),\n",
       "  Tile(x=7, y=19, is_visited=0, visiting_agent=[], code_block=<CodeBlock.EMPTY: 'empty'>),\n",
       "  Tile(x=8, y=19, is_visited=0, visiting_agent=[], code_block=<CodeBlock.EMPTY: 'empty'>),\n",
       "  Tile(x=9, y=19, is_visited=0, visiting_agent=[], code_block=<CodeBlock.EMPTY: 'empty'>),\n",
       "  Tile(x=10, y=19, is_visited=0, visiting_agent=[], code_block=<CodeBlock.EMPTY: 'empty'>),\n",
       "  Tile(x=11, y=19, is_visited=0, visiting_agent=[], code_block=<CodeBlock.EMPTY: 'empty'>),\n",
       "  Tile(x=12, y=19, is_visited=0, visiting_agent=[], code_block=<CodeBlock.EMPTY: 'empty'>),\n",
       "  Tile(x=13, y=19, is_visited=0, visiting_agent=[], code_block=<CodeBlock.EMPTY: 'empty'>),\n",
       "  Tile(x=14, y=19, is_visited=0, visiting_agent=[], code_block=<CodeBlock.EMPTY: 'empty'>),\n",
       "  Tile(x=15, y=19, is_visited=0, visiting_agent=[], code_block=<CodeBlock.EMPTY: 'empty'>),\n",
       "  Tile(x=16, y=19, is_visited=0, visiting_agent=[], code_block=<CodeBlock.EMPTY: 'empty'>),\n",
       "  Tile(x=17, y=19, is_visited=0, visiting_agent=[], code_block=<CodeBlock.EMPTY: 'empty'>),\n",
       "  Tile(x=18, y=19, is_visited=0, visiting_agent=[], code_block=<CodeBlock.EMPTY: 'empty'>),\n",
       "  Tile(x=19, y=19, is_visited=0, visiting_agent=[], code_block=<CodeBlock.EMPTY: 'empty'>)]]"
      ]
     },
     "execution_count": 3,
     "metadata": {},
     "output_type": "execute_result"
    }
   ],
   "source": [
    "level = LevelMap()\n",
    "first = level.generate_empty_map(20, (20 // 2, 20 // 2))\n",
    "first\n"
   ]
  },
  {
   "cell_type": "code",
   "execution_count": 6,
   "metadata": {},
   "outputs": [
    {
     "data": {
      "text/plain": [
       "20"
      ]
     },
     "execution_count": 6,
     "metadata": {},
     "output_type": "execute_result"
    }
   ],
   "source": [
    "len(first)\n"
   ]
  },
  {
   "cell_type": "code",
   "execution_count": 4,
   "metadata": {},
   "outputs": [
    {
     "ename": "NameError",
     "evalue": "name 'seed' is not defined",
     "output_type": "error",
     "traceback": [
      "\u001b[1;31m---------------------------------------------------------------------------\u001b[0m",
      "\u001b[1;31mNameError\u001b[0m                                 Traceback (most recent call last)",
      "\u001b[1;32mc:\\Users\\Saket Saurabh\\Projects\\blockly-map-generator\\src\\testNotebook.ipynb Cell 4\u001b[0m in \u001b[0;36m<cell line: 2>\u001b[1;34m()\u001b[0m\n\u001b[0;32m      <a href='vscode-notebook-cell:/c%3A/Users/Saket%20Saurabh/Projects/blockly-map-generator/src/testNotebook.ipynb#W3sZmlsZQ%3D%3D?line=0'>1</a>\u001b[0m \u001b[39m# seed random number generator\u001b[39;00m\n\u001b[1;32m----> <a href='vscode-notebook-cell:/c%3A/Users/Saket%20Saurabh/Projects/blockly-map-generator/src/testNotebook.ipynb#W3sZmlsZQ%3D%3D?line=1'>2</a>\u001b[0m seed(\u001b[39m1\u001b[39m)\n",
      "\u001b[1;31mNameError\u001b[0m: name 'seed' is not defined"
     ]
    }
   ],
   "source": [
    "# seed random number generator\n",
    "seed(1)\n"
   ]
  },
  {
   "cell_type": "code",
   "execution_count": null,
   "metadata": {},
   "outputs": [],
   "source": [
    "# actions\n",
    "ACTION = ['move_forward', 'turn_left', 'turn_right', 'turn_left$move_forward',\n",
    "          'turn_right$move_forward', 'move_forward$move_forward']\n"
   ]
  },
  {
   "cell_type": "code",
   "execution_count": null,
   "metadata": {},
   "outputs": [],
   "source": [
    "# programming operators\n",
    "OPERATORS = ['if', 'if_else', 'while', 'do_while']\n"
   ]
  },
  {
   "cell_type": "code",
   "execution_count": null,
   "metadata": {},
   "outputs": [],
   "source": [
    "# number of agents\n",
    "TOTAL_AGENTS = 3\n"
   ]
  },
  {
   "cell_type": "code",
   "execution_count": null,
   "metadata": {},
   "outputs": [],
   "source": [
    "# direction\n",
    "DIRECTION = ['north', 'south', 'east', 'west']\n"
   ]
  },
  {
   "cell_type": "code",
   "execution_count": null,
   "metadata": {},
   "outputs": [],
   "source": [
    "# size\n",
    "size = [20, 20]\n"
   ]
  },
  {
   "cell_type": "code",
   "execution_count": null,
   "metadata": {},
   "outputs": [],
   "source": [
    "start_tile = Tile(size[0] // 2, size[1] // 2)\n"
   ]
  },
  {
   "cell_type": "code",
   "execution_count": null,
   "metadata": {},
   "outputs": [],
   "source": [
    "level_map = LevelMap(mesh_coords, start_tile)\n"
   ]
  },
  {
   "cell_type": "code",
   "execution_count": null,
   "metadata": {},
   "outputs": [
    {
     "name": "stdout",
     "output_type": "stream",
     "text": [
      "[Tile(x=10, y=10, visited_agent=1, code_block='empty'), Tile(x=10, y=12, visited_agent=1, code_block='move_forward'), Tile(x=10, y=14, visited_agent=1, code_block='move_forward'), Tile(x=10, y=16, visited_agent=1, code_block='move_forward'), Tile(x=8, y=16, visited_agent=1, code_block='move_forward'), Tile(x=6, y=16, visited_agent=1, code_block='move_forward'), Tile(x=4, y=16, visited_agent=1, code_block='move_forward'), Tile(x=4, y=14, visited_agent=1, code_block='move_forward'), Tile(x=2, y=14, visited_agent=1, code_block='move_forward'), Tile(x=2, y=12, visited_agent=1, code_block='move_forward'), Tile(x=2, y=10, visited_agent=1, code_block='move_forward'), Tile(x=2, y=8, visited_agent=1, code_block='move_forward'), Tile(x=0, y=8, visited_agent=1, code_block='move_forward')]\n",
      "[Tile(x=10, y=10, visited_agent=2, code_block='empty'), Tile(x=8, y=10, visited_agent=2, code_block='move_forward'), Tile(x=8, y=8, visited_agent=2, code_block='move_forward'), Tile(x=8, y=6, visited_agent=2, code_block='move_forward'), Tile(x=8, y=4, visited_agent=2, code_block='move_forward'), Tile(x=8, y=2, visited_agent=2, code_block='move_forward'), Tile(x=8, y=0, visited_agent=2, code_block='move_forward')]\n",
      "[Tile(x=10, y=10, visited_agent=3, code_block='empty'), Tile(x=10, y=12, visited_agent=3, code_block='move_forward'), Tile(x=10, y=14, visited_agent=3, code_block='move_forward'), Tile(x=10, y=16, visited_agent=3, code_block='move_forward'), Tile(x=8, y=16, visited_agent=3, code_block='move_forward'), Tile(x=8, y=14, visited_agent=3, code_block='move_forward'), Tile(x=8, y=12, visited_agent=3, code_block='move_forward'), Tile(x=8, y=10, visited_agent=3, code_block='move_forward'), Tile(x=8, y=8, visited_agent=3, code_block='move_forward'), Tile(x=8, y=6, visited_agent=3, code_block='move_forward'), Tile(x=8, y=4, visited_agent=3, code_block='move_forward'), Tile(x=6, y=4, visited_agent=3, code_block='move_forward')]\n"
     ]
    }
   ],
   "source": [
    "for agent_id in range(1, TOTAL_AGENTS + 1):\n",
    "    agent = Agent(agent_id, level_map)\n",
    "    total_steps = randint(1, 5)\n",
    "\n",
    "    while (total_steps >= 0):\n",
    "        basket_size = randint(1, 10)\n",
    "        actions = choices(\n",
    "            ACTION, weights=[0.2, 0.1, 0.1, 0.2, 0.2, 0.2], k=basket_size)\n",
    "        for action in actions:\n",
    "            for sub_action in action.split('$'):\n",
    "                agent.perform_action(sub_action)\n",
    "            total_steps -= 1\n",
    "    print(agent.path)\n",
    "    dfS = pd.DataFrame(mesh_coords)\n"
   ]
  },
  {
   "cell_type": "code",
   "execution_count": null,
   "metadata": {},
   "outputs": [],
   "source": [
    "df = pd.DataFrame(mesh_coords)\n"
   ]
  },
  {
   "cell_type": "code",
   "execution_count": null,
   "metadata": {},
   "outputs": [
    {
     "data": {
      "text/html": [
       "<div>\n",
       "<style scoped>\n",
       "    .dataframe tbody tr th:only-of-type {\n",
       "        vertical-align: middle;\n",
       "    }\n",
       "\n",
       "    .dataframe tbody tr th {\n",
       "        vertical-align: top;\n",
       "    }\n",
       "\n",
       "    .dataframe thead th {\n",
       "        text-align: right;\n",
       "    }\n",
       "</style>\n",
       "<table border=\"1\" class=\"dataframe\">\n",
       "  <thead>\n",
       "    <tr style=\"text-align: right;\">\n",
       "      <th></th>\n",
       "      <th>x</th>\n",
       "      <th>y</th>\n",
       "      <th>visited_agent</th>\n",
       "      <th>code_block</th>\n",
       "    </tr>\n",
       "  </thead>\n",
       "  <tbody>\n",
       "    <tr>\n",
       "      <th>0</th>\n",
       "      <td>0</td>\n",
       "      <td>0</td>\n",
       "      <td>0</td>\n",
       "      <td>empty</td>\n",
       "    </tr>\n",
       "    <tr>\n",
       "      <th>1</th>\n",
       "      <td>0</td>\n",
       "      <td>1</td>\n",
       "      <td>0</td>\n",
       "      <td>empty</td>\n",
       "    </tr>\n",
       "    <tr>\n",
       "      <th>2</th>\n",
       "      <td>0</td>\n",
       "      <td>2</td>\n",
       "      <td>0</td>\n",
       "      <td>empty</td>\n",
       "    </tr>\n",
       "    <tr>\n",
       "      <th>3</th>\n",
       "      <td>0</td>\n",
       "      <td>3</td>\n",
       "      <td>0</td>\n",
       "      <td>empty</td>\n",
       "    </tr>\n",
       "    <tr>\n",
       "      <th>4</th>\n",
       "      <td>0</td>\n",
       "      <td>4</td>\n",
       "      <td>0</td>\n",
       "      <td>empty</td>\n",
       "    </tr>\n",
       "  </tbody>\n",
       "</table>\n",
       "</div>"
      ],
      "text/plain": [
       "   x  y  visited_agent code_block\n",
       "0  0  0              0      empty\n",
       "1  0  1              0      empty\n",
       "2  0  2              0      empty\n",
       "3  0  3              0      empty\n",
       "4  0  4              0      empty"
      ]
     },
     "execution_count": 19,
     "metadata": {},
     "output_type": "execute_result"
    }
   ],
   "source": [
    "df.head()\n"
   ]
  },
  {
   "cell_type": "code",
   "execution_count": null,
   "metadata": {},
   "outputs": [
    {
     "data": {
      "text/plain": [
       "<AxesSubplot:xlabel='x', ylabel='y'>"
      ]
     },
     "execution_count": 20,
     "metadata": {},
     "output_type": "execute_result"
    },
    {
     "data": {
      "image/png": "[encoded data removed]",
      "text/plain": [
       "<Figure size 640x480 with 1 Axes>"
      ]
     },
     "metadata": {},
     "output_type": "display_data"
    }
   ],
   "source": [
    "sns.scatterplot(data=df, x='x', y='y', hue='visited_agent')\n"
   ]
  },
  {
   "cell_type": "code",
   "execution_count": 7,
   "metadata": {},
   "outputs": [],
   "source": [
    "from mazelib import Maze\n"
   ]
  },
  {
   "cell_type": "code",
   "execution_count": 36,
   "metadata": {},
   "outputs": [],
   "source": [
    "from mazelib.generate.AldousBroder import AldousBroder\n",
    "from mazelib.solve.BacktrackingSolver import BacktrackingSolver\n",
    "from mazelib.solve.ShortestPaths import ShortestPaths\n"
   ]
  },
  {
   "cell_type": "code",
   "execution_count": 74,
   "metadata": {},
   "outputs": [],
   "source": [
    "import matplotlib.pyplot as plt\n",
    "import matplotlib.patches as patches\n",
    "\n",
    "\n",
    "def showPNG(grid, start, end):\n",
    "    \"\"\"Generate a simple image of the maze.\"\"\"\n",
    "    plt.figure(figsize=(10, 5))\n",
    "    plt.imshow(grid, cmap=plt.cm.binary, interpolation='nearest')\n",
    "    ax = plt.gca()\n",
    "    start_patch = patches.Circle(start, 0.5, linewidth=3,\n",
    "                             edgecolor='r', facecolor='red')\n",
    "    end_patch = patches.Circle(end, 0.5, linewidth=3,\n",
    "                             edgecolor='g', facecolor='green')\n",
    "    ax.add_patch(start_patch)\n",
    "    ax.add_patch(end_patch)\n",
    "    plt.xticks([]), plt.yticks([])\n",
    "    plt.show()\n"
   ]
  },
  {
   "cell_type": "code",
   "execution_count": 80,
   "metadata": {},
   "outputs": [],
   "source": [
    "m = Maze()\n",
    "m.generator = AldousBroder(10, 10)\n",
    "m.generate()\n",
    "m.start = (5, 5)\n",
    "m.end = (1, 3)\n"
   ]
  },
  {
   "cell_type": "code",
   "execution_count": 81,
   "metadata": {},
   "outputs": [],
   "source": [
    "m.solver = ShortestPaths()\n",
    "m.solve()\n"
   ]
  },
  {
   "cell_type": "code",
   "execution_count": 82,
   "metadata": {},
   "outputs": [
    {
     "data": {
      "text/plain": [
       "[[(4, 5), (3, 5), (2, 5), (1, 5), (1, 4)],\n",
       " [(5, 4), (5, 5), (4, 5), (3, 5), (2, 5), (1, 5), (1, 4)]]"
      ]
     },
     "execution_count": 82,
     "metadata": {},
     "output_type": "execute_result"
    }
   ],
   "source": [
    "m.solutions\n"
   ]
  },
  {
   "cell_type": "code",
   "execution_count": 83,
   "metadata": {},
   "outputs": [
    {
     "name": "stdout",
     "output_type": "stream",
     "text": [
      "#####################\n",
      "# #E++  #     #     #\n",
      "# # #+### ### ##### #\n",
      "#   #+#   # #       #\n",
      "# ###+# ### # # # ###\n",
      "# #  S#     # # #   #\n",
      "### ######### ##### #\n",
      "#   #         #     #\n",
      "# ### ######### #####\n",
      "#   #       # # #   #\n",
      "### # ##### # # ### #\n",
      "#   #     # #   #   #\n",
      "# ####### # # ### ###\n",
      "# #     # # #   # # #\n",
      "# # ##### # ### # # #\n",
      "# #       #   # #   #\n",
      "# ### ####### # # ###\n",
      "#   #   # #   # #   #\n",
      "### ### # # # # ### #\n",
      "#       #   # #     #\n",
      "#####################\n"
     ]
    }
   ],
   "source": [
    "print(m)\n"
   ]
  },
  {
   "cell_type": "code",
   "execution_count": 84,
   "metadata": {},
   "outputs": [
    {
     "data": {
      "image/png": "[encoded data removed]",
      "text/plain": [
       "<Figure size 1000x500 with 1 Axes>"
      ]
     },
     "metadata": {},
     "output_type": "display_data"
    }
   ],
   "source": [
    "showPNG(m.grid, m.start, m.end)\n"
   ]
  }
 ],
 "metadata": {
  "kernelspec": {
   "display_name": "Python 3.9.13 ('blocky-map-generator')",
   "language": "python",
   "name": "python3"
  },
  "language_info": {
   "codemirror_mode": {
    "name": "ipython",
    "version": 3
   },
   "file_extension": ".py",
   "mimetype": "text/x-python",
   "name": "python",
   "nbconvert_exporter": "python",
   "pygments_lexer": "ipython3",
   "version": "3.9.13"
  },
  "orig_nbformat": 4,
  "vscode": {
   "interpreter": {
    "hash": "35b693eb35bbc4073b76e9f30331eeeeffcc2cab59c3d0259cfef1d864542b0e"
   }
  }
 },
 "nbformat": 4,
 "nbformat_minor": 2
}
