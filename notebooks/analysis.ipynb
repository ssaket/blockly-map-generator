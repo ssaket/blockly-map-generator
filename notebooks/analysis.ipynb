{
 "cells": [
  {
   "cell_type": "markdown",
   "metadata": {},
   "source": [
    "# Blockly Trial Map Generator"
   ]
  },
  {
   "cell_type": "markdown",
   "metadata": {},
   "source": [
    "In this notebook, we will generate trial maps for the experiment"
   ]
  },
  {
   "cell_type": "code",
   "execution_count": 71,
   "metadata": {},
   "outputs": [],
   "source": [
    "import numpy as np\n",
    "import sys\n",
    "sys.path.append(\"../src/\") # go to source dir\n"
   ]
  },
  {
   "cell_type": "code",
   "execution_count": 72,
   "metadata": {},
   "outputs": [],
   "source": [
    "from level import showLevelWithAgentPNG, showLevelPNGMark\n",
    "from trial import Trial\n"
   ]
  },
  {
   "cell_type": "code",
   "execution_count": 73,
   "metadata": {},
   "outputs": [
    {
     "data": {
      "text/plain": [
       "Trial(id=1, map_size=5, num_agents=2, score=0)"
      ]
     },
     "execution_count": 73,
     "metadata": {},
     "output_type": "execute_result"
    }
   ],
   "source": [
    "trial = Trial(map_size = 5, num_agents = 2)\n",
    "trial.generate_map(method='eller', xskew = 0.1, yskew= 0.9)\n",
    "# trial.generate_map(method='cellular', complexity=0.2, density=0.1)\n",
    "trial"
   ]
  },
  {
   "cell_type": "code",
   "execution_count": 74,
   "metadata": {},
   "outputs": [
    {
     "name": "stdout",
     "output_type": "stream",
     "text": [
      "start location Tile(row=5, col=5, value=0, size=0, direction='None', code_block='empty')\n",
      "end location Tile(row=3, col=3, value=0, size=0, direction='None', code_block='empty')\n",
      "start solving maze...\n",
      "maze is solved!\n",
      "done walking!\n",
      "start solving maze...\n",
      "maze is solved!\n",
      "done walking!\n"
     ]
    }
   ],
   "source": [
    "from random import choices\n",
    "ran_st = choices([False, True], [0.7, 0.3], k=1)\n",
    "ran_ed = choices([False, True], [0.7, 0.3], k=1)\n",
    "trial.start_agent_walk(random_start=False, random_end=False)"
   ]
  },
  {
   "cell_type": "code",
   "execution_count": 75,
   "metadata": {},
   "outputs": [
    {
     "data": {
      "image/png": "[encoded data removed]",
      "text/plain": [
       "<Figure size 640x480 with 2 Axes>"
      ]
     },
     "metadata": {},
     "output_type": "display_data"
    }
   ],
   "source": [
    "trial.show_map_with_agents()"
   ]
  }
 ],
 "metadata": {
  "kernelspec": {
   "display_name": "Python 3.9.13 ('blocky-map-generator')",
   "language": "python",
   "name": "python3"
  },
  "language_info": {
   "codemirror_mode": {
    "name": "ipython",
    "version": 3
   },
   "file_extension": ".py",
   "mimetype": "text/x-python",
   "name": "python",
   "nbconvert_exporter": "python",
   "pygments_lexer": "ipython3",
   "version": "3.9.13"
  },
  "orig_nbformat": 4,
  "vscode": {
   "interpreter": {
    "hash": "35b693eb35bbc4073b76e9f30331eeeeffcc2cab59c3d0259cfef1d864542b0e"
   }
  }
 },
 "nbformat": 4,
 "nbformat_minor": 2
}
