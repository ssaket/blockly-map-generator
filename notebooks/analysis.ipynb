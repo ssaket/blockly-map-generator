{
 "cells": [
  {
   "cell_type": "markdown",
   "metadata": {},
   "source": [
    "# Blockly Trial Map Generator"
   ]
  },
  {
   "cell_type": "markdown",
   "metadata": {},
   "source": [
    "In this notebook, we will generate trial maps for the experiment"
   ]
  },
  {
   "cell_type": "code",
   "execution_count": 16,
   "metadata": {},
   "outputs": [],
   "source": [
    "import numpy as np\n",
    "import sys\n",
    "sys.path.append(\"../src/\") # go to source dir\n"
   ]
  },
  {
   "cell_type": "code",
   "execution_count": 17,
   "metadata": {},
   "outputs": [],
   "source": [
    "from level import showLevelWithAgentPNG, showLevelPNGMark\n",
    "from trial import Trial\n"
   ]
  },
  {
   "cell_type": "code",
   "execution_count": 18,
   "metadata": {},
   "outputs": [
    {
     "data": {
      "text/plain": [
       "Trial(id=1, map_size=8, num_agents=4)"
      ]
     },
     "execution_count": 18,
     "metadata": {},
     "output_type": "execute_result"
    }
   ],
   "source": [
    "trial = Trial(map_size = 8, num_agents = 4)\n",
    "trial"
   ]
  },
  {
   "cell_type": "code",
   "execution_count": 19,
   "metadata": {},
   "outputs": [
    {
     "data": {
      "text/plain": [
       "array([[1, 1, 1, 1, 1, 1, 1, 1, 1, 1, 1, 1, 1, 1, 1, 1, 1],\n",
       "       [1, 0, 0, 0, 1, 0, 0, 0, 0, 0, 1, 0, 1, 0, 0, 0, 1],\n",
       "       [1, 0, 0, 0, 1, 0, 0, 0, 0, 0, 1, 0, 1, 0, 1, 1, 1],\n",
       "       [1, 0, 0, 0, 0, 0, 0, 0, 0, 0, 0, 0, 0, 0, 0, 0, 1],\n",
       "       [1, 1, 1, 0, 0, 0, 0, 0, 0, 0, 0, 0, 0, 0, 1, 0, 1],\n",
       "       [1, 0, 0, 0, 0, 0, 0, 0, 0, 0, 0, 0, 0, 0, 1, 0, 1],\n",
       "       [1, 0, 1, 1, 1, 0, 1, 0, 0, 0, 0, 0, 1, 0, 1, 0, 1],\n",
       "       [1, 0, 0, 0, 0, 0, 0, 0, 0, 0, 0, 0, 0, 0, 0, 0, 1],\n",
       "       [1, 0, 0, 0, 0, 0, 0, 0, 1, 0, 0, 0, 0, 0, 1, 1, 1],\n",
       "       [1, 0, 0, 0, 0, 0, 0, 0, 0, 0, 0, 0, 0, 0, 0, 0, 1],\n",
       "       [1, 0, 0, 0, 0, 0, 0, 0, 0, 0, 0, 0, 1, 0, 1, 0, 1],\n",
       "       [1, 0, 0, 0, 0, 0, 0, 0, 0, 0, 0, 0, 0, 0, 1, 0, 1],\n",
       "       [1, 1, 1, 1, 1, 0, 0, 0, 0, 0, 1, 1, 1, 0, 1, 1, 1],\n",
       "       [1, 0, 0, 0, 0, 0, 0, 0, 0, 0, 0, 0, 0, 0, 0, 0, 1],\n",
       "       [1, 1, 1, 0, 0, 0, 0, 0, 0, 0, 1, 0, 1, 1, 1, 0, 1],\n",
       "       [1, 0, 0, 0, 0, 0, 0, 0, 0, 0, 1, 0, 0, 0, 0, 0, 1],\n",
       "       [1, 1, 1, 1, 1, 1, 1, 1, 1, 1, 1, 1, 1, 1, 1, 1, 1]], dtype=int8)"
      ]
     },
     "execution_count": 19,
     "metadata": {},
     "output_type": "execute_result"
    }
   ],
   "source": [
    "trial.grid.maze.grid"
   ]
  },
  {
   "cell_type": "code",
   "execution_count": 20,
   "metadata": {},
   "outputs": [
    {
     "name": "stdout",
     "output_type": "stream",
     "text": [
      "start location Tile(row=9, col=9, value=0, size=0, direction='SOUTH', code_block='empty')\n",
      "end location Tile(row=9, col=8, value=0, size=0, direction='None', code_block='empty')\n",
      "start solving maze...\n"
     ]
    },
    {
     "data": {
      "image/png": "[encoded data removed]",
      "text/plain": [
       "<Figure size 1000x500 with 1 Axes>"
      ]
     },
     "metadata": {},
     "output_type": "display_data"
    },
    {
     "name": "stdout",
     "output_type": "stream",
     "text": [
      "maze is solved!\n"
     ]
    },
    {
     "ename": "ValueError",
     "evalue": "(0, 0) is not a valid DirectionEnum",
     "output_type": "error",
     "traceback": [
      "\u001b[1;31m---------------------------------------------------------------------------\u001b[0m",
      "\u001b[1;31mValueError\u001b[0m                                Traceback (most recent call last)",
      "\u001b[1;32mc:\\Users\\Saket Saurabh\\Projects\\blockly-map-generator\\notebooks\\analysis.ipynb Cell 7\u001b[0m in \u001b[0;36m<cell line: 1>\u001b[1;34m()\u001b[0m\n\u001b[1;32m----> <a href='vscode-notebook-cell:/c%3A/Users/Saket%20Saurabh/Projects/blockly-map-generator/notebooks/analysis.ipynb#W6sZmlsZQ%3D%3D?line=0'>1</a>\u001b[0m trial\u001b[39m.\u001b[39;49mstart_agent_walk(\u001b[39mFalse\u001b[39;49;00m, \u001b[39mFalse\u001b[39;49;00m)\n",
      "File \u001b[1;32mc:\\Users\\Saket Saurabh\\Projects\\blockly-map-generator\\notebooks\\../src\\trial.py:31\u001b[0m, in \u001b[0;36mTrial.start_agent_walk\u001b[1;34m(self, random_start, random_end)\u001b[0m\n\u001b[0;32m     29\u001b[0m \u001b[39mdef\u001b[39;00m \u001b[39mstart_agent_walk\u001b[39m(\u001b[39mself\u001b[39m, random_start \u001b[39m=\u001b[39m \u001b[39mFalse\u001b[39;00m, random_end \u001b[39m=\u001b[39m \u001b[39mTrue\u001b[39;00m):\n\u001b[0;32m     30\u001b[0m     \u001b[39mfor\u001b[39;00m agent \u001b[39min\u001b[39;00m \u001b[39mself\u001b[39m\u001b[39m.\u001b[39magents:\n\u001b[1;32m---> 31\u001b[0m         agent\u001b[39m.\u001b[39;49mstart_walk(random_start, random_end)\n",
      "File \u001b[1;32mc:\\Users\\Saket Saurabh\\Projects\\blockly-map-generator\\notebooks\\../src\\agent.py:96\u001b[0m, in \u001b[0;36mAgent.start_walk\u001b[1;34m(self, random_start, random_end)\u001b[0m\n\u001b[0;32m     94\u001b[0m new_tile \u001b[39m=\u001b[39m Tile(\u001b[39mint\u001b[39m(x), \u001b[39mint\u001b[39m(y))\n\u001b[0;32m     95\u001b[0m delta \u001b[39m=\u001b[39m old_tile \u001b[39m-\u001b[39m new_tile\n\u001b[1;32m---> 96\u001b[0m new_direction \u001b[39m=\u001b[39m DirectionEnum((delta\u001b[39m.\u001b[39;49mrow, delta\u001b[39m.\u001b[39;49mcol))\n\u001b[0;32m     97\u001b[0m new_tile\u001b[39m.\u001b[39mdirection \u001b[39m=\u001b[39m new_direction\u001b[39m.\u001b[39mname\n\u001b[0;32m     99\u001b[0m \u001b[39mif\u001b[39;00m old_direction \u001b[39m==\u001b[39m new_direction:\n",
      "File \u001b[1;32mc:\\Users\\Saket Saurabh\\miniconda3\\envs\\blocky-map-generator\\lib\\enum.py:384\u001b[0m, in \u001b[0;36mEnumMeta.__call__\u001b[1;34m(cls, value, names, module, qualname, type, start)\u001b[0m\n\u001b[0;32m    359\u001b[0m \u001b[39m\"\"\"\u001b[39;00m\n\u001b[0;32m    360\u001b[0m \u001b[39mEither returns an existing member, or creates a new enum class.\u001b[39;00m\n\u001b[0;32m    361\u001b[0m \n\u001b[1;32m   (...)\u001b[0m\n\u001b[0;32m    381\u001b[0m \u001b[39m`type`, if set, will be mixed in as the first base class.\u001b[39;00m\n\u001b[0;32m    382\u001b[0m \u001b[39m\"\"\"\u001b[39;00m\n\u001b[0;32m    383\u001b[0m \u001b[39mif\u001b[39;00m names \u001b[39mis\u001b[39;00m \u001b[39mNone\u001b[39;00m:  \u001b[39m# simple value lookup\u001b[39;00m\n\u001b[1;32m--> 384\u001b[0m     \u001b[39mreturn\u001b[39;00m \u001b[39mcls\u001b[39;49m\u001b[39m.\u001b[39;49m\u001b[39m__new__\u001b[39;49m(\u001b[39mcls\u001b[39;49m, value)\n\u001b[0;32m    385\u001b[0m \u001b[39m# otherwise, functional API: we're creating a new Enum type\u001b[39;00m\n\u001b[0;32m    386\u001b[0m \u001b[39mreturn\u001b[39;00m \u001b[39mcls\u001b[39m\u001b[39m.\u001b[39m_create_(\n\u001b[0;32m    387\u001b[0m         value,\n\u001b[0;32m    388\u001b[0m         names,\n\u001b[1;32m   (...)\u001b[0m\n\u001b[0;32m    392\u001b[0m         start\u001b[39m=\u001b[39mstart,\n\u001b[0;32m    393\u001b[0m         )\n",
      "File \u001b[1;32mc:\\Users\\Saket Saurabh\\miniconda3\\envs\\blocky-map-generator\\lib\\enum.py:702\u001b[0m, in \u001b[0;36mEnum.__new__\u001b[1;34m(cls, value)\u001b[0m\n\u001b[0;32m    700\u001b[0m ve_exc \u001b[39m=\u001b[39m \u001b[39mValueError\u001b[39;00m(\u001b[39m\"\u001b[39m\u001b[39m%r\u001b[39;00m\u001b[39m is not a valid \u001b[39m\u001b[39m%s\u001b[39;00m\u001b[39m\"\u001b[39m \u001b[39m%\u001b[39m (value, \u001b[39mcls\u001b[39m\u001b[39m.\u001b[39m\u001b[39m__qualname__\u001b[39m))\n\u001b[0;32m    701\u001b[0m \u001b[39mif\u001b[39;00m result \u001b[39mis\u001b[39;00m \u001b[39mNone\u001b[39;00m \u001b[39mand\u001b[39;00m exc \u001b[39mis\u001b[39;00m \u001b[39mNone\u001b[39;00m:\n\u001b[1;32m--> 702\u001b[0m     \u001b[39mraise\u001b[39;00m ve_exc\n\u001b[0;32m    703\u001b[0m \u001b[39melif\u001b[39;00m exc \u001b[39mis\u001b[39;00m \u001b[39mNone\u001b[39;00m:\n\u001b[0;32m    704\u001b[0m     exc \u001b[39m=\u001b[39m \u001b[39mTypeError\u001b[39;00m(\n\u001b[0;32m    705\u001b[0m             \u001b[39m'\u001b[39m\u001b[39merror in \u001b[39m\u001b[39m%s\u001b[39;00m\u001b[39m._missing_: returned \u001b[39m\u001b[39m%r\u001b[39;00m\u001b[39m instead of None or a valid member\u001b[39m\u001b[39m'\u001b[39m\n\u001b[0;32m    706\u001b[0m             \u001b[39m%\u001b[39m (\u001b[39mcls\u001b[39m\u001b[39m.\u001b[39m\u001b[39m__name__\u001b[39m, result)\n\u001b[0;32m    707\u001b[0m             )\n",
      "\u001b[1;31mValueError\u001b[0m: (0, 0) is not a valid DirectionEnum"
     ]
    }
   ],
   "source": [
    "trial.start_agent_walk(False, False)"
   ]
  },
  {
   "cell_type": "code",
   "execution_count": null,
   "metadata": {},
   "outputs": [
    {
     "data": {
      "text/plain": [
       "#################\n",
       "#   #     # #   #\n",
       "#   #     # # ###\n",
       "#               #\n",
       "###           # #\n",
       "#             # #\n",
       "# ### #     # # #\n",
       "#               #\n",
       "#       #     ###\n",
       "#       E+++++  #\n",
       "#           #+# #\n",
       "#            +# #\n",
       "#####     ###+###\n",
       "#            +++S\n",
       "###       # ### #\n",
       "#         #     #\n",
       "#################"
      ]
     },
     "execution_count": 10,
     "metadata": {},
     "output_type": "execute_result"
    }
   ],
   "source": [
    "trial.grid.maze"
   ]
  },
  {
   "cell_type": "code",
   "execution_count": null,
   "metadata": {},
   "outputs": [],
   "source": [
    "trial.agents[0].path[0]"
   ]
  },
  {
   "cell_type": "code",
   "execution_count": null,
   "metadata": {},
   "outputs": [],
   "source": [
    "showLevelWithAgentPNG(trial.grid.maze.grid, trial.agents[0].path)"
   ]
  },
  {
   "cell_type": "code",
   "execution_count": null,
   "metadata": {},
   "outputs": [],
   "source": [
    "from mazelib.generate.DungeonRooms import DungeonRooms\n",
    "from mazelib import Maze\n",
    "from mazelib.generate.AldousBroder import AldousBroder\n",
    "from mazelib.generate.BinaryTree import BinaryTree\n",
    "from mazelib.generate.CellularAutomaton import CellularAutomaton\n",
    "from mazelib.solve.ShortestPaths import ShortestPaths\n",
    "from mazelib.solve.Tremaux import Tremaux\n",
    "from mazelib.solve.BacktrackingSolver import BacktrackingSolver\n",
    "from mazelib.solve.Collision import Collision\n",
    "from mazelib.solve.Chain import Chain\n",
    "\n",
    "m = Maze()\n",
    "m.generator = CellularAutomaton(8, 8, 0.1, 0.2)\n",
    "m.generate()"
   ]
  },
  {
   "cell_type": "code",
   "execution_count": null,
   "metadata": {},
   "outputs": [],
   "source": [
    "import random\n",
    "import numpy as np\n",
    "def gen_rand_location(locations, r_min, r_max, c_min, c_max):\n",
    "        end_r, end_c = random.choice([(r, c) for r, c in zip(locations[0], locations[1]) if (\n",
    "            r >= r_min) and (r <= r_max) and (c >= c_min) and (c <= c_max)])\n",
    "        return (end_r, end_c)\n",
    "\n",
    "grid = m.grid\n",
    "r, c = grid.shape\n",
    "locations = np.where(grid == 0)\n",
    "# list(zip(locations[0], locations[1]))\n",
    "r // 2 - 2, r // 2 + 2, c // 2 - 1, c // 2 + 1\n"
   ]
  },
  {
   "cell_type": "code",
   "execution_count": null,
   "metadata": {},
   "outputs": [],
   "source": [
    "\n",
    "start_r, start_c = gen_rand_location(\n",
    "    locations, r // 2 - 1, r // 2 + 1, c // 2 - 1, c // 2 + 1)\n",
    "start_tile = (int(start_r), int(start_c))\n",
    "direction = 'north'\n",
    "\n",
    "if direction == 'south':\n",
    "    end_r, end_c = gen_rand_location(locations, r // 2, r, 0, c)\n",
    "elif direction == 'north':\n",
    "    end_r, end_c = gen_rand_location(locations, 0, r // 2, 0, c)\n",
    "elif direction == 'east':\n",
    "    end_r, end_c = gen_rand_location(locations, 0, r, c // 2, c)\n",
    "elif direction == 'west':\n",
    "    end_r, end_c = gen_rand_location(locations, 0, r, 0, c // 2)\n",
    "\n",
    "end_tile = (end_r, end_c)\n",
    "start_tile, end_tile"
   ]
  },
  {
   "cell_type": "code",
   "execution_count": null,
   "metadata": {},
   "outputs": [],
   "source": [
    "m.end = end_tile"
   ]
  },
  {
   "cell_type": "code",
   "execution_count": null,
   "metadata": {},
   "outputs": [],
   "source": [
    "m.generate_entrances()\n",
    "# m.start = start_tile"
   ]
  },
  {
   "cell_type": "code",
   "execution_count": null,
   "metadata": {},
   "outputs": [],
   "source": [
    "showLevelPNGMark(m.grid, m.start, m.end)"
   ]
  },
  {
   "cell_type": "code",
   "execution_count": null,
   "metadata": {},
   "outputs": [],
   "source": [
    "\n",
    "m.solver = Chain()"
   ]
  },
  {
   "cell_type": "code",
   "execution_count": null,
   "metadata": {},
   "outputs": [],
   "source": [
    "m.solve()"
   ]
  },
  {
   "cell_type": "code",
   "execution_count": null,
   "metadata": {},
   "outputs": [],
   "source": [
    "m.solutions"
   ]
  }
 ],
 "metadata": {
  "kernelspec": {
   "display_name": "Python 3.9.13 ('blocky-map-generator')",
   "language": "python",
   "name": "python3"
  },
  "language_info": {
   "codemirror_mode": {
    "name": "ipython",
    "version": 3
   },
   "file_extension": ".py",
   "mimetype": "text/x-python",
   "name": "python",
   "nbconvert_exporter": "python",
   "pygments_lexer": "ipython3",
   "version": "3.9.13"
  },
  "orig_nbformat": 4,
  "vscode": {
   "interpreter": {
    "hash": "35b693eb35bbc4073b76e9f30331eeeeffcc2cab59c3d0259cfef1d864542b0e"
   }
  }
 },
 "nbformat": 4,
 "nbformat_minor": 2
}
