{
 "cells": [
  {
   "cell_type": "markdown",
   "metadata": {},
   "source": [
    "# Blockly Trial Map Generator"
   ]
  },
  {
   "cell_type": "markdown",
   "metadata": {},
   "source": [
    "In this notebook, we will generate trial maps for the experiment"
   ]
  },
  {
   "cell_type": "code",
   "execution_count": 7,
   "metadata": {},
   "outputs": [],
   "source": [
    "import numpy as np\n",
    "import sys\n",
    "sys.path.append(\"../src/\") # go to source dir\n"
   ]
  },
  {
   "cell_type": "code",
   "execution_count": 8,
   "metadata": {},
   "outputs": [],
   "source": [
    "from level import showLevelWithAgentPNG, showLevelPNGMark\n",
    "from trial import Trial\n"
   ]
  },
  {
   "cell_type": "code",
   "execution_count": 9,
   "metadata": {},
   "outputs": [
    {
     "data": {
      "text/plain": [
       "Trial(id=1, map_size=3, num_agents=3, score=0)"
      ]
     },
     "execution_count": 9,
     "metadata": {},
     "output_type": "execute_result"
    }
   ],
   "source": [
    "trial = Trial(map_size = 3, num_agents = 3)\n",
    "trial.generate_map(method='eller', xskew = 0.1, yskew= 0.9)\n",
    "# trial.generate_map(method='cellular', complexity=0.2, density=0.9)\n",
    "# trial.generate_map(mutation=True)\n",
    "trial"
   ]
  },
  {
   "cell_type": "code",
   "execution_count": 10,
   "metadata": {},
   "outputs": [],
   "source": [
    "from random import choices\n",
    "ran_st = choices([False, True], [0.7, 0.3], k=1)\n",
    "ran_ed = choices([False, True], [0.7, 0.3], k=1)\n",
    "trial.start_agent_walk(random_start=False)"
   ]
  },
  {
   "cell_type": "code",
   "execution_count": 11,
   "metadata": {},
   "outputs": [
    {
     "data": {
      "image/png": "[encoded data removed]",
      "text/plain": [
       "<Figure size 640x480 with 3 Axes>"
      ]
     },
     "metadata": {},
     "output_type": "display_data"
    }
   ],
   "source": [
    "trial.show_map_with_agents()"
   ]
  },
  {
   "cell_type": "code",
   "execution_count": 12,
   "metadata": {},
   "outputs": [
    {
     "data": {
      "text/plain": [
       "'{\"id\": 1, \"map_size\": 3, \"num_agents\": 3, \"score\": 0, \"_Trial__grid\": [{\"size\": 3}], \"agents\": [{\"id\": 1, \"grid\": {\"size\": 3}, \"curr_direction\": [-1, 0], \"path\": [[{\"row\": 4, \"col\": 3, \"value\": 0, \"code_block\": \"turn_right#move_forward\"}, {\"row\": 5, \"col\": 3, \"value\": 0, \"code_block\": \"move_forward\"}, {\"row\": 5, \"col\": 4, \"value\": 0, \"code_block\": \"turn_left#move_forward\"}, {\"row\": 5, \"col\": 5, \"value\": 0, \"code_block\": \"move_forward\"}, {\"row\": 4, \"col\": 5, \"value\": 0, \"code_block\": \"turn_left#move_forward\"}, {\"row\": 3, \"col\": 5, \"value\": 0, \"code_block\": \"move_forward\"}]]}, {\"id\": 2, \"grid\": {\"size\": 3}, \"curr_direction\": [-1, 0], \"path\": [[{\"row\": 4, \"col\": 3, \"value\": 0, \"code_block\": \"turn_right#move_forward\"}, {\"row\": 5, \"col\": 3, \"value\": 0, \"code_block\": \"move_forward\"}, {\"row\": 5, \"col\": 4, \"value\": 0, \"code_block\": \"turn_left#move_forward\"}, {\"row\": 5, \"col\": 5, \"value\": 0, \"code_block\": \"move_forward\"}, {\"row\": 4, \"col\": 5, \"value\": 0, \"code_block\": \"turn_left#move_forward\"}, {\"row\": 3, \"col\": 5, \"value\": 0, \"code_block\": \"move_forward\"}]]}, {\"id\": 3, \"grid\": {\"size\": 3}, \"curr_direction\": [-1, 0], \"path\": [[{\"row\": 4, \"col\": 3, \"value\": 0, \"code_block\": \"turn_left#move_forward\"}, {\"row\": 5, \"col\": 3, \"value\": 0, \"code_block\": \"move_forward\"}, {\"row\": 5, \"col\": 2, \"value\": 0, \"code_block\": \"turn_right#move_forward\"}, {\"row\": 5, \"col\": 1, \"value\": 0, \"code_block\": \"move_forward\"}, {\"row\": 4, \"col\": 1, \"value\": 0, \"code_block\": \"turn_right#move_forward\"}, {\"row\": 3, \"col\": 1, \"value\": 0, \"code_block\": \"move_forward\"}]]}]}'"
      ]
     },
     "execution_count": 12,
     "metadata": {},
     "output_type": "execute_result"
    }
   ],
   "source": [
    "trial.to_json()"
   ]
  },
  {
   "cell_type": "code",
   "execution_count": null,
   "metadata": {},
   "outputs": [],
   "source": []
  }
 ],
 "metadata": {
  "kernelspec": {
   "display_name": "Python 3.9.13 ('blocky-map-generator')",
   "language": "python",
   "name": "python3"
  },
  "language_info": {
   "codemirror_mode": {
    "name": "ipython",
    "version": 3
   },
   "file_extension": ".py",
   "mimetype": "text/x-python",
   "name": "python",
   "nbconvert_exporter": "python",
   "pygments_lexer": "ipython3",
   "version": "3.9.13 (main, Oct 13 2022, 21:23:06) [MSC v.1916 64 bit (AMD64)]"
  },
  "orig_nbformat": 4,
  "vscode": {
   "interpreter": {
    "hash": "35b693eb35bbc4073b76e9f30331eeeeffcc2cab59c3d0259cfef1d864542b0e"
   }
  }
 },
 "nbformat": 4,
 "nbformat_minor": 2
}
